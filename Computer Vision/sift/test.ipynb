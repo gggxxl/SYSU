{
 "cells": [
  {
   "cell_type": "code",
   "execution_count": 33,
   "metadata": {},
   "outputs": [],
   "source": [
    "import cv2"
   ]
  },
  {
   "cell_type": "code",
   "execution_count": 34,
   "metadata": {},
   "outputs": [],
   "source": [
    "fileName = \"test2\""
   ]
  },
  {
   "cell_type": "code",
   "execution_count": 35,
   "metadata": {},
   "outputs": [],
   "source": [
    "mg_cv = cv2.imread(fileName + \".JPG\")"
   ]
  },
  {
   "cell_type": "code",
   "execution_count": 36,
   "metadata": {},
   "outputs": [],
   "source": [
    "gray=cv2.cvtColor(mg_cv,cv2.COLOR_BGR2GRAY)"
   ]
  },
  {
   "cell_type": "code",
   "execution_count": 37,
   "metadata": {},
   "outputs": [],
   "source": [
    "import matplotlib.pyplot as plt"
   ]
  },
  {
   "cell_type": "code",
   "execution_count": 38,
   "metadata": {},
   "outputs": [
    {
     "data": {
      "text/plain": [
       "<matplotlib.image.AxesImage at 0x7f7110282ba8>"
      ]
     },
     "execution_count": 38,
     "metadata": {},
     "output_type": "execute_result"
    }
   ],
   "source": [
    "plt.imshow(gray, cmap='gray')"
   ]
  },
  {
   "cell_type": "code",
   "execution_count": 39,
   "metadata": {},
   "outputs": [
    {
     "data": {
      "text/plain": [
       "(2262, 4032)"
      ]
     },
     "execution_count": 39,
     "metadata": {},
     "output_type": "execute_result"
    }
   ],
   "source": [
    "gray.shape"
   ]
  },
  {
   "cell_type": "code",
   "execution_count": 40,
   "metadata": {},
   "outputs": [],
   "source": [
    "from ctypes import cdll\n",
    "test = cdll.LoadLibrary(\"./lib/siftdevice.so\")"
   ]
  },
  {
   "cell_type": "code",
   "execution_count": 41,
   "metadata": {},
   "outputs": [
    {
     "data": {
      "text/plain": [
       "numpy.ndarray"
      ]
     },
     "execution_count": 41,
     "metadata": {},
     "output_type": "execute_result"
    }
   ],
   "source": [
    "type(gray)"
   ]
  },
  {
   "cell_type": "code",
   "execution_count": 42,
   "metadata": {},
   "outputs": [],
   "source": [
    "import ctypes\n",
    "import numpy as np"
   ]
  },
  {
   "cell_type": "code",
   "execution_count": 43,
   "metadata": {},
   "outputs": [],
   "source": [
    "n = gray.shape[0]\n",
    "m = gray.shape[1]"
   ]
  },
  {
   "cell_type": "code",
   "execution_count": 44,
   "metadata": {},
   "outputs": [
    {
     "data": {
      "text/plain": [
       "(2262, 4032)"
      ]
     },
     "execution_count": 44,
     "metadata": {},
     "output_type": "execute_result"
    }
   ],
   "source": [
    "n,m"
   ]
  },
  {
   "cell_type": "code",
   "execution_count": 45,
   "metadata": {},
   "outputs": [],
   "source": [
    "res = np.empty((gray.shape[0], gray.shape[1]), dtype='float64')"
   ]
  },
  {
   "cell_type": "code",
   "execution_count": 46,
   "metadata": {},
   "outputs": [],
   "source": [
    "gray = gray.astype('float64') # double"
   ]
  },
  {
   "cell_type": "code",
   "execution_count": 47,
   "metadata": {},
   "outputs": [],
   "source": [
    "sigma = 10.0"
   ]
  },
  {
   "cell_type": "code",
   "execution_count": 48,
   "metadata": {},
   "outputs": [],
   "source": [
    "kr = 16\n",
    "ks = 4\n",
    "ko = 8\n",
    "S = 3\n",
    "sigma_init = 0.5\n",
    "contrast_threshold = 0.03\n",
    "edge_response_threshold = 10.0\n",
    "max_iterpolation = 10\n",
    "time_arr4 = np.empty(4, dtype='float64')"
   ]
  },
  {
   "cell_type": "code",
   "execution_count": 49,
   "metadata": {},
   "outputs": [
    {
     "name": "stdout",
     "output_type": "stream",
     "text": [
      "[1.73355016e+02 1.73359484e+02 1.73390354e+02 ... 1.37566795e+14\n",
      " 1.37542892e+14 1.22945207e+14]\n"
     ]
    }
   ],
   "source": [
    "res_num = 20\n",
    "res_img = np.empty(gray.shape[0] * gray.shape[1] * 4 * res_num, dtype='float64')\n",
    "res_n = np.empty(res_num, dtype='int32')\n",
    "res_m = np.empty(res_num, dtype='int32')\n",
    "\n",
    "# gray_t* gray_img, int n, int m, gray_t* res_img, int* res_n, int* res_m, int res_num, int S, double sigma_init\n",
    "test.test.argtypes = [np.ctypeslib.ndpointer(dtype=gray.dtype, ndim=2, shape=gray.shape, flags='C_CONTIGUOUS'), \n",
    "                      ctypes.c_int,  # n\n",
    "                      ctypes.c_int,  # m\n",
    "                      np.ctypeslib.ndpointer(dtype=res_img.dtype, ndim=1, shape=res_img.shape, flags='C_CONTIGUOUS'), \n",
    "                      np.ctypeslib.ndpointer(dtype=res_n.dtype, ndim=1, shape=res_n.shape, flags='C_CONTIGUOUS'), \n",
    "                      np.ctypeslib.ndpointer(dtype=res_m.dtype, ndim=1, shape=res_m.shape, flags='C_CONTIGUOUS'), \n",
    "                      ctypes.c_int,  # res_num\n",
    "                      ctypes.c_int,  # S\n",
    "                      ctypes.c_double  # sigma_init\n",
    "                     ]\n",
    "test.test(gray, n, m, res_img, res_n, res_m, res_num, S, sigma_init)\n",
    "\n",
    "cur = 0\n",
    "show_all = True\n",
    "for i in range(res_num):\n",
    "    img = res_img[cur:cur+res_n[i] * res_m[i]]\n",
    "    if show_all or ((i % (S + 3)) > 0 and (i % (S + 3)) < S + 1):\n",
    "        plt.xlim([0, 2 * gray.shape[1]])\n",
    "        plt.ylim([2 * gray.shape[0], 0])\n",
    "        plt.imshow(img.reshape(res_n[i], res_m[i]), cmap='gray')\n",
    "        #plt.savefig(\"dog{}.png\".format(i))\n",
    "        #plt.show()\n",
    "    cur += res_n[i] * res_m[i]\n",
    "\n",
    "print(res_img[res_n[0] * res_m[0]:res_n[0] * res_m[0]+res_n[1] * res_m[1]])"
   ]
  },
  {
   "cell_type": "code",
   "execution_count": 50,
   "metadata": {},
   "outputs": [
    {
     "data": {
      "text/plain": [
       "0"
      ]
     },
     "execution_count": 50,
     "metadata": {},
     "output_type": "execute_result"
    }
   ],
   "source": [
    "test.sift.argtypes = [np.ctypeslib.ndpointer(dtype=gray.dtype, ndim=2, shape=gray.shape, flags='C_CONTIGUOUS'), \n",
    "                          np.ctypeslib.ndpointer(dtype=res.dtype, ndim=2, shape=res.shape, flags='C_CONTIGUOUS'),\n",
    "                          ctypes.c_int,  # n\n",
    "                          ctypes.c_int,  # m\n",
    "                          ctypes.c_int,  # kr\n",
    "                          ctypes.c_int,  # ks\n",
    "                          ctypes.c_int,  # ko\n",
    "                          ctypes.c_int,  # S\n",
    "                          ctypes.c_double,  # sigma_init\n",
    "                          ctypes.c_double,  # contrast_threshold\n",
    "                          ctypes.c_double,  # edge_response_threshold\n",
    "                          ctypes.c_int,  # max_iterpolation\n",
    "                          np.ctypeslib.ndpointer(dtype=time_arr4.dtype, ndim=1, shape=time_arr4.shape, flags='C_CONTIGUOUS')\n",
    "                         ]\n",
    "test.sift(gray, res, n, m, kr, ks, ko, S, \n",
    "          sigma_init, contrast_threshold, \n",
    "          edge_response_threshold, max_iterpolation, time_arr4)"
   ]
  },
  {
   "cell_type": "code",
   "execution_count": 51,
   "metadata": {},
   "outputs": [
    {
     "data": {
      "text/plain": [
       "array([ 2.70029497, 10.87547994,  1.13936114, 12.16437602])"
      ]
     },
     "execution_count": 51,
     "metadata": {},
     "output_type": "execute_result"
    }
   ],
   "source": [
    "time_arr4"
   ]
  },
  {
   "cell_type": "code",
   "execution_count": 52,
   "metadata": {},
   "outputs": [
    {
     "data": {
      "text/plain": [
       "(2262, 4032)"
      ]
     },
     "execution_count": 52,
     "metadata": {},
     "output_type": "execute_result"
    }
   ],
   "source": [
    "n,m"
   ]
  },
  {
   "cell_type": "code",
   "execution_count": 53,
   "metadata": {},
   "outputs": [],
   "source": [
    "plt.imshow(res, cmap=\"gray\")\n",
    "plt.savefig(fileName+\"_res.png\")"
   ]
  },
  {
   "cell_type": "code",
   "execution_count": 54,
   "metadata": {},
   "outputs": [
    {
     "data": {
      "text/plain": [
       "(2262, 4032)"
      ]
     },
     "execution_count": 54,
     "metadata": {},
     "output_type": "execute_result"
    }
   ],
   "source": [
    "res.shape"
   ]
  },
  {
   "cell_type": "code",
   "execution_count": 55,
   "metadata": {},
   "outputs": [],
   "source": [
    "import numpy as np"
   ]
  },
  {
   "cell_type": "code",
   "execution_count": 56,
   "metadata": {},
   "outputs": [],
   "source": [
    "he = np.array(range(9), dtype='float64')\n",
    "he[1] = he[3]\n",
    "he[2] = he[6]\n",
    "he[5] = he[7]\n",
    "he_inv = np.array(range(9), dtype='float64')"
   ]
  },
  {
   "cell_type": "code",
   "execution_count": 57,
   "metadata": {},
   "outputs": [],
   "source": [
    "# 0a1 1b1 2c1\n",
    "# 3a2 4b2 5c2\n",
    "# 6a3 7b3 8c3"
   ]
  },
  {
   "cell_type": "code",
   "execution_count": 58,
   "metadata": {},
   "outputs": [],
   "source": [
    "det = he[0] * (he[4] * he[8] - he[5] * he[7]) \\\n",
    "        - he[3] * (he[1] * he[8] - he[2] * he[7]) \\\n",
    "        + he[6] * (he[1] * he[5] - he[2] * he[4])\n",
    "he_inv[0] = (he[4] * he[8] - he[5] * he[7]) / det\n",
    "he_inv[1] = (he[2] * he[7] - he[1] * he[8]) / det\n",
    "he_inv[2] = (he[1] * he[5] - he[2] * he[4]) / det\n",
    "he_inv[3] = (he[5] * he[6] - he[3] * he[8]) / det\n",
    "he_inv[4] = (he[0] * he[8] - he[2] * he[6]) / det\n",
    "he_inv[5] = (he[3] * he[2] - he[0] * he[5]) / det\n",
    "he_inv[6] = (he[3] * he[7] - he[4] * he[6]) / det\n",
    "he_inv[7] = (he[1] * he[6] - he[0] * he[7]) / det\n",
    "he_inv[8] = (he[0] * he[4] - he[3] * he[1]) / det"
   ]
  },
  {
   "cell_type": "code",
   "execution_count": 59,
   "metadata": {},
   "outputs": [
    {
     "name": "stdout",
     "output_type": "stream",
     "text": [
      "[[0. 3. 6.]\n",
      " [3. 4. 7.]\n",
      " [6. 7. 8.]]\n"
     ]
    }
   ],
   "source": [
    "print(he.reshape(3,3))"
   ]
  },
  {
   "cell_type": "code",
   "execution_count": 60,
   "metadata": {},
   "outputs": [
    {
     "name": "stdout",
     "output_type": "stream",
     "text": [
      "[[-0.47222222  0.5        -0.08333333]\n",
      " [ 0.5        -1.          0.5       ]\n",
      " [-0.08333333  0.5        -0.25      ]]\n"
     ]
    }
   ],
   "source": [
    "print(he_inv.reshape(3,3))"
   ]
  },
  {
   "cell_type": "code",
   "execution_count": 61,
   "metadata": {},
   "outputs": [],
   "source": [
    "import time"
   ]
  },
  {
   "cell_type": "code",
   "execution_count": 62,
   "metadata": {},
   "outputs": [
    {
     "data": {
      "text/plain": [
       "<matplotlib.image.AxesImage at 0x7f7112ecb278>"
      ]
     },
     "execution_count": 62,
     "metadata": {},
     "output_type": "execute_result"
    }
   ],
   "source": [
    "# https://docs.opencv.org/4.5.2/d7/d60/classcv_1_1SIFT.html\n",
    "sift = cv2.SIFT_create(nOctaveLayers=S, contrastThreshold=contrast_threshold, \n",
    "                       edgeThreshold=edge_response_threshold, sigma=sigma_init)\n",
    "t = time.time()\n",
    "kp1, des1 = sift.detectAndCompute(mg_cv, None)   #des是描述子\n",
    "t = time.time() - t \n",
    "img3 = cv2.drawKeypoints(mg_cv,kp1,mg_cv,color=(255,0,255))\n",
    "plt.imshow(img3)"
   ]
  },
  {
   "cell_type": "code",
   "execution_count": 63,
   "metadata": {},
   "outputs": [
    {
     "data": {
      "text/plain": [
       "10.766781091690063"
      ]
     },
     "execution_count": 63,
     "metadata": {},
     "output_type": "execute_result"
    }
   ],
   "source": [
    "t"
   ]
  },
  {
   "cell_type": "code",
   "execution_count": 64,
   "metadata": {},
   "outputs": [
    {
     "data": {
      "text/plain": [
       "dtype('int64')"
      ]
     },
     "execution_count": 64,
     "metadata": {},
     "output_type": "execute_result"
    }
   ],
   "source": [
    "np.array([1]).dtype"
   ]
  },
  {
   "cell_type": "code",
   "execution_count": null,
   "metadata": {},
   "outputs": [],
   "source": []
  }
 ],
 "metadata": {
  "interpreter": {
   "hash": "a0c15818bbd400ae5e9a33b683eb188438eab8ea5baaa5f7683e8459d6a955b1"
  },
  "kernelspec": {
   "display_name": "Python 3.7.2 64-bit ('base': conda)",
   "name": "python3"
  },
  "language_info": {
   "codemirror_mode": {
    "name": "ipython",
    "version": 3
   },
   "file_extension": ".py",
   "mimetype": "text/x-python",
   "name": "python",
   "nbconvert_exporter": "python",
   "pygments_lexer": "ipython3",
   "version": "3.7.2"
  }
 },
 "nbformat": 4,
 "nbformat_minor": 4
}